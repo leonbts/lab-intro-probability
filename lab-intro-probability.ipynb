{
 "cells": [
  {
   "cell_type": "markdown",
   "metadata": {},
   "source": [
    "# Lab | Intro to Probability"
   ]
  },
  {
   "cell_type": "markdown",
   "metadata": {},
   "source": [
    "**Objective**\n",
    "\n",
    "Welcome to this Intro to Probability lab, where we explore decision-making scenarios through the lens of probability and strategic analysis. In the business world, making informed decisions is crucial, especially when faced with uncertainties. This lab focuses on scenarios where probabilistic outcomes play a significant role in shaping strategies and outcomes. Students will engage in exercises that require assessing and choosing optimal paths based on data-driven insights. The goal is to enhance your skills by applying probability concepts to solve real-world problems."
   ]
  },
  {
   "cell_type": "markdown",
   "metadata": {},
   "source": [
    "**Challenge 1**"
   ]
  },
  {
   "cell_type": "markdown",
   "metadata": {},
   "source": [
    "#### Ironhack Airlines \n",
    "\n",
    "Often Airlines sell more tickets than they have seats available, this is called overbooking. Consider the following:\n",
    "- A plane has 450 seats. \n",
    "- Based on historical data we conclude that each individual passenger has a 3% chance of missing it's flight. \n",
    "\n",
    "If the Ironhack Airlines routinely sells 460 tickets, what is the chance that they have a seats for all passenger?"
   ]
  },
  {
   "cell_type": "code",
   "execution_count": 10,
   "metadata": {},
   "outputs": [
    {
     "name": "stdout",
     "output_type": "stream",
     "text": [
      "Probability that everyone fits: 0.8845\n"
     ]
    }
   ],
   "source": [
    "from scipy.stats import binom, geom, poisson, expon, norm\n",
    "\n",
    "n = 460        # total tickets sold\n",
    "p = 0.97       # probability a person shows up\n",
    "seats = 450    # total seats on the plane\n",
    "\n",
    "# P(X <= 450)\n",
    "prob = binom.cdf(seats, n, p)\n",
    "\n",
    "print(f\"Probability that everyone fits: {prob:.4f}\")"
   ]
  },
  {
   "cell_type": "markdown",
   "metadata": {},
   "source": [
    "**Challenge 2**"
   ]
  },
  {
   "cell_type": "markdown",
   "metadata": {},
   "source": [
    "#### Ironhack Call Center "
   ]
  },
  {
   "cell_type": "markdown",
   "metadata": {},
   "source": [
    "Suppose a customer service representative at a call center is handling customer complaints. Consider the following:\n",
    "- The probability of successfully resolving a customer complaint on the first attempt is 0.3. \n",
    "\n",
    "\n",
    "What is the probability that the representative needs to make at least three attempts before successfully resolving a customer complaint?"
   ]
  },
  {
   "cell_type": "code",
   "execution_count": 11,
   "metadata": {},
   "outputs": [
    {
     "name": "stdout",
     "output_type": "stream",
     "text": [
      "Probability of needing at least 3 attempts: 0.4900\n"
     ]
    }
   ],
   "source": [
    "p = 0.3\n",
    "\n",
    "# P(X >= 3) = 1 - P(X <= 2)\n",
    "prob = 1 - geom.cdf(2, p)\n",
    "\n",
    "print(f\"Probability of needing at least 3 attempts: {prob:.4f}\")"
   ]
  },
  {
   "cell_type": "markdown",
   "metadata": {},
   "source": [
    "**Challenge 3**"
   ]
  },
  {
   "cell_type": "markdown",
   "metadata": {},
   "source": [
    "#### Ironhack Website"
   ]
  },
  {
   "cell_type": "markdown",
   "metadata": {},
   "source": [
    "Consider a scenario related to Ironhack website traffic. Where:\n",
    "- our website takes on average 500 visits per hour.\n",
    "- the website's server is designed to handle up to 550 vists per hour.\n",
    "\n",
    "\n",
    "What is the probability of the website server being overwhelmed?"
   ]
  },
  {
   "cell_type": "code",
   "execution_count": 12,
   "metadata": {},
   "outputs": [
    {
     "name": "stdout",
     "output_type": "stream",
     "text": [
      "Probability server is overwhelmed: 0.0129\n"
     ]
    }
   ],
   "source": [
    "λ = 500\n",
    "threshold = 550\n",
    "\n",
    "# Probability server is overwhelmed\n",
    "prob_overwhelmed = 1 - poisson.cdf(threshold, λ)\n",
    "\n",
    "print(f\"Probability server is overwhelmed: {prob_overwhelmed:.4f}\")"
   ]
  },
  {
   "cell_type": "markdown",
   "metadata": {},
   "source": [
    "What is the probability of being overwhelmed at some point during a day? (consider 24hours)"
   ]
  },
  {
   "cell_type": "code",
   "execution_count": 13,
   "metadata": {},
   "outputs": [
    {
     "name": "stdout",
     "output_type": "stream",
     "text": [
      "Probability of server being overwhelmed at least once in a day: 0.2677\n"
     ]
    }
   ],
   "source": [
    "λ = 500\n",
    "threshold = 550\n",
    "hours = 24\n",
    "\n",
    "# Probability server is overwhelmed in a single hour\n",
    "p = 1 - poisson.cdf(threshold, λ)\n",
    "\n",
    "# Probability server is overwhelmed at least once in 24 hours\n",
    "p_overwhelmed_day = 1 - (1 - p) ** hours\n",
    "\n",
    "print(f\"Probability of server being overwhelmed at least once in a day: {p_overwhelmed_day:.4f}\")"
   ]
  },
  {
   "cell_type": "markdown",
   "metadata": {},
   "source": [
    "**Challenge 4**"
   ]
  },
  {
   "cell_type": "markdown",
   "metadata": {},
   "source": [
    "#### Ironhack Helpdesk"
   ]
  },
  {
   "cell_type": "markdown",
   "metadata": {},
   "source": [
    "Consider a scenario related to the time between arrivals of customers at a service desk.\n",
    "\n",
    "On average, a customers arrives every 10minutes.\n",
    "\n",
    "What is the probability that the next customer will arrive within the next 5 minutes?"
   ]
  },
  {
   "cell_type": "code",
   "execution_count": 14,
   "metadata": {},
   "outputs": [
    {
     "name": "stdout",
     "output_type": "stream",
     "text": [
      "Probability next customer arrives within 5 minutes: 0.3935\n"
     ]
    }
   ],
   "source": [
    "rate = 1/10  # lambda = 1 per 10 minutes\n",
    "time = 5\n",
    "\n",
    "# P(T <= 5)\n",
    "prob = expon.cdf(time, scale=1/rate)\n",
    "\n",
    "print(f\"Probability next customer arrives within 5 minutes: {prob:.4f}\")"
   ]
  },
  {
   "cell_type": "markdown",
   "metadata": {},
   "source": [
    "If there is no customer for 15minutes, employees can that a 5minutes break.\n",
    "\n",
    "What is the probability an employee taking a break?"
   ]
  },
  {
   "cell_type": "code",
   "execution_count": 15,
   "metadata": {},
   "outputs": [
    {
     "name": "stdout",
     "output_type": "stream",
     "text": [
      "Probability employee can take a break: 0.2231\n"
     ]
    }
   ],
   "source": [
    "rate = 1/10  # one customer every 10 minutes\n",
    "time = 15\n",
    "\n",
    "# P(T > 15)\n",
    "prob_break = 1 - expon.cdf(time, scale=1/rate)\n",
    "\n",
    "print(f\"Probability employee can take a break: {prob_break:.4f}\")"
   ]
  },
  {
   "cell_type": "markdown",
   "metadata": {},
   "source": [
    "**Challenge 5**"
   ]
  },
  {
   "cell_type": "markdown",
   "metadata": {},
   "source": [
    "The weights of a certain species of birds follow a normal distribution with a mean weight of 150 grams and a standard deviation of 10 grams. \n",
    "\n",
    "- If we randomly select a bird, what is the probability that its weight is between 140 and 160 grams?"
   ]
  },
  {
   "cell_type": "code",
   "execution_count": 16,
   "metadata": {},
   "outputs": [
    {
     "name": "stdout",
     "output_type": "stream",
     "text": [
      "Probability that the bird weighs between 140 and 160 grams: 0.6827\n"
     ]
    }
   ],
   "source": [
    "mean = 150\n",
    "std_dev = 10\n",
    "\n",
    "# Calculate the probability that weight is between 140 and 160 grams\n",
    "prob_between = norm.cdf(160, mean, std_dev) - norm.cdf(140, mean, std_dev)\n",
    "\n",
    "print(f\"Probability that the bird weighs between 140 and 160 grams: {prob_between:.4f}\")"
   ]
  },
  {
   "cell_type": "markdown",
   "metadata": {},
   "source": [
    "**Challenge 6**"
   ]
  },
  {
   "cell_type": "markdown",
   "metadata": {},
   "source": [
    "If the lifetime (in hours) of a certain electronic component follows an exponential distribution with a mean lifetime of 50 hours, what is the probability that the component fails within the first 30 hours?"
   ]
  },
  {
   "cell_type": "code",
   "execution_count": 17,
   "metadata": {},
   "outputs": [
    {
     "name": "stdout",
     "output_type": "stream",
     "text": [
      "Probability that the component fails within 30 hours: 0.4512\n"
     ]
    }
   ],
   "source": [
    "rate = 1 / 50  # λ = 1 / mean\n",
    "time = 30\n",
    "\n",
    "# Calculate the probability that the component fails within 30 hours\n",
    "prob_fail_30 = expon.cdf(time, scale=1/rate)\n",
    "\n",
    "print(f\"Probability that the component fails within 30 hours: {prob_fail_30:.4f}\")"
   ]
  }
 ],
 "metadata": {
  "kernelspec": {
   "display_name": ".venv",
   "language": "python",
   "name": "python3"
  },
  "language_info": {
   "codemirror_mode": {
    "name": "ipython",
    "version": 3
   },
   "file_extension": ".py",
   "mimetype": "text/x-python",
   "name": "python",
   "nbconvert_exporter": "python",
   "pygments_lexer": "ipython3",
   "version": "3.12.2"
  }
 },
 "nbformat": 4,
 "nbformat_minor": 2
}
